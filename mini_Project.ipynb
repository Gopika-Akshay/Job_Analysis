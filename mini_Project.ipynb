{
 "cells": [
  {
   "cell_type": "code",
   "execution_count": 1,
   "id": "44f71763-7739-4461-8eea-e96c55d62141",
   "metadata": {},
   "outputs": [
    {
     "name": "stdout",
     "output_type": "stream",
     "text": [
      "Requirement already satisfied: pandas in c:\\users\\nanda\\anaconda3\\lib\\site-packages (2.2.3)\n",
      "Requirement already satisfied: numpy>=1.26.0 in c:\\users\\nanda\\anaconda3\\lib\\site-packages (from pandas) (2.1.3)\n",
      "Requirement already satisfied: python-dateutil>=2.8.2 in c:\\users\\nanda\\anaconda3\\lib\\site-packages (from pandas) (2.9.0.post0)\n",
      "Requirement already satisfied: pytz>=2020.1 in c:\\users\\nanda\\anaconda3\\lib\\site-packages (from pandas) (2024.1)\n",
      "Requirement already satisfied: tzdata>=2022.7 in c:\\users\\nanda\\anaconda3\\lib\\site-packages (from pandas) (2025.2)\n",
      "Requirement already satisfied: six>=1.5 in c:\\users\\nanda\\anaconda3\\lib\\site-packages (from python-dateutil>=2.8.2->pandas) (1.17.0)\n"
     ]
    }
   ],
   "source": [
    "!pip install pandas"
   ]
  },
  {
   "cell_type": "code",
   "execution_count": 4,
   "id": "741794d4-ca9a-4ddb-adc5-7452b6afaf22",
   "metadata": {},
   "outputs": [
    {
     "name": "stdout",
     "output_type": "stream",
     "text": [
      "2.2.3\n"
     ]
    }
   ],
   "source": [
    "import pandas as pd\n",
    "print(pd.__version__)"
   ]
  },
  {
   "cell_type": "code",
   "execution_count": null,
   "id": "b3f5162a-2577-4064-af62-755ee3002c80",
   "metadata": {},
   "outputs": [],
   "source": []
  },
  {
   "cell_type": "code",
   "execution_count": 54,
   "id": "e9ed6909-acc3-4860-9dcb-81c5aecfae71",
   "metadata": {},
   "outputs": [
    {
     "data": {
      "text/html": [
       "<div>\n",
       "<style scoped>\n",
       "    .dataframe tbody tr th:only-of-type {\n",
       "        vertical-align: middle;\n",
       "    }\n",
       "\n",
       "    .dataframe tbody tr th {\n",
       "        vertical-align: top;\n",
       "    }\n",
       "\n",
       "    .dataframe thead th {\n",
       "        text-align: right;\n",
       "    }\n",
       "</style>\n",
       "<table border=\"1\" class=\"dataframe\">\n",
       "  <thead>\n",
       "    <tr style=\"text-align: right;\">\n",
       "      <th></th>\n",
       "      <th>company</th>\n",
       "      <th>rating</th>\n",
       "      <th>location</th>\n",
       "      <th>positionName</th>\n",
       "      <th>description</th>\n",
       "      <th>salary</th>\n",
       "      <th>url</th>\n",
       "      <th>jobType/0</th>\n",
       "      <th>jobType/1</th>\n",
       "      <th>jobType/2</th>\n",
       "      <th>jobType/3</th>\n",
       "      <th>searchInput/country</th>\n",
       "      <th>searchInput/position</th>\n",
       "      <th>externalApplyLink</th>\n",
       "    </tr>\n",
       "  </thead>\n",
       "  <tbody>\n",
       "    <tr>\n",
       "      <th>0</th>\n",
       "      <td>Google</td>\n",
       "      <td>4.3</td>\n",
       "      <td>San Bruno, CA</td>\n",
       "      <td>Senior Data Scientist, Research, YouTube Search</td>\n",
       "      <td>Note: By applying to this position you will ha...</td>\n",
       "      <td>$166,000 - $244,000 a year</td>\n",
       "      <td>https://www.indeed.com/viewjob?jk=3129ec5dde24...</td>\n",
       "      <td>Full-time</td>\n",
       "      <td>NaN</td>\n",
       "      <td>NaN</td>\n",
       "      <td>NaN</td>\n",
       "      <td>US</td>\n",
       "      <td>Data Scientist</td>\n",
       "      <td>https://www.google.com/about/careers/applicati...</td>\n",
       "    </tr>\n",
       "    <tr>\n",
       "      <th>1</th>\n",
       "      <td>BAXTER</td>\n",
       "      <td>3.7</td>\n",
       "      <td>Milwaukee, WI 53214</td>\n",
       "      <td>Senior AI Engineer - Data Scientist</td>\n",
       "      <td>This is where you save and sustain lives\\n\\nAt...</td>\n",
       "      <td>$112,000 - $154,000 a year</td>\n",
       "      <td>https://www.indeed.com/viewjob?jk=19da1b85455c...</td>\n",
       "      <td>Full-time</td>\n",
       "      <td>NaN</td>\n",
       "      <td>NaN</td>\n",
       "      <td>NaN</td>\n",
       "      <td>US</td>\n",
       "      <td>Data Scientist</td>\n",
       "      <td>https://jobs.baxter.com/en/job/-/-/152/8298788...</td>\n",
       "    </tr>\n",
       "    <tr>\n",
       "      <th>2</th>\n",
       "      <td>Meta</td>\n",
       "      <td>4.2</td>\n",
       "      <td>Redmond, WA</td>\n",
       "      <td>Audio Software Engineer, Applied Scientist</td>\n",
       "      <td>Redmond, WA • + 2 more•Full Time\\nMessenger\\nM...</td>\n",
       "      <td>$70.67 an hour</td>\n",
       "      <td>https://www.indeed.com/viewjob?jk=0b0b432e2a51...</td>\n",
       "      <td>Full-time</td>\n",
       "      <td>NaN</td>\n",
       "      <td>NaN</td>\n",
       "      <td>NaN</td>\n",
       "      <td>US</td>\n",
       "      <td>Data Scientist</td>\n",
       "      <td>https://www.metacareers.com/jobs/3101204833367...</td>\n",
       "    </tr>\n",
       "    <tr>\n",
       "      <th>3</th>\n",
       "      <td>Meta</td>\n",
       "      <td>4.2</td>\n",
       "      <td>Bellevue, WA 98005</td>\n",
       "      <td>Software Engineer, Machine Learning</td>\n",
       "      <td>Bellevue, WA • Full Time\\nMeta\\nSoftware Engin...</td>\n",
       "      <td>$203,350 - $240,240 a year</td>\n",
       "      <td>https://www.indeed.com/viewjob?jk=08d2ef77c976...</td>\n",
       "      <td>Full-time</td>\n",
       "      <td>NaN</td>\n",
       "      <td>NaN</td>\n",
       "      <td>NaN</td>\n",
       "      <td>US</td>\n",
       "      <td>Data Scientist</td>\n",
       "      <td>https://www.metacareers.com/jobs/1096352489054...</td>\n",
       "    </tr>\n",
       "    <tr>\n",
       "      <th>4</th>\n",
       "      <td>Lockheed Martin</td>\n",
       "      <td>4.0</td>\n",
       "      <td>Shelton, CT 06484</td>\n",
       "      <td>AI / Machine Learning Research Engineer (early...</td>\n",
       "      <td>Job ID: 694362BR\\nDate posted: May. 22, 2025\\n...</td>\n",
       "      <td>NaN</td>\n",
       "      <td>https://www.indeed.com/viewjob?jk=e9aad7dcc34e...</td>\n",
       "      <td>Full-time</td>\n",
       "      <td>NaN</td>\n",
       "      <td>NaN</td>\n",
       "      <td>NaN</td>\n",
       "      <td>US</td>\n",
       "      <td>Data Scientist</td>\n",
       "      <td>https://click.appcast.io/t/V35efAz0-l7FWwo6IKe...</td>\n",
       "    </tr>\n",
       "  </tbody>\n",
       "</table>\n",
       "</div>"
      ],
      "text/plain": [
       "           company  rating             location  \\\n",
       "0           Google     4.3        San Bruno, CA   \n",
       "1           BAXTER     3.7  Milwaukee, WI 53214   \n",
       "2             Meta     4.2          Redmond, WA   \n",
       "3             Meta     4.2   Bellevue, WA 98005   \n",
       "4  Lockheed Martin     4.0    Shelton, CT 06484   \n",
       "\n",
       "                                        positionName  \\\n",
       "0    Senior Data Scientist, Research, YouTube Search   \n",
       "1                Senior AI Engineer - Data Scientist   \n",
       "2         Audio Software Engineer, Applied Scientist   \n",
       "3                Software Engineer, Machine Learning   \n",
       "4  AI / Machine Learning Research Engineer (early...   \n",
       "\n",
       "                                         description  \\\n",
       "0  Note: By applying to this position you will ha...   \n",
       "1  This is where you save and sustain lives\\n\\nAt...   \n",
       "2  Redmond, WA • + 2 more•Full Time\\nMessenger\\nM...   \n",
       "3  Bellevue, WA • Full Time\\nMeta\\nSoftware Engin...   \n",
       "4  Job ID: 694362BR\\nDate posted: May. 22, 2025\\n...   \n",
       "\n",
       "                       salary  \\\n",
       "0  $166,000 - $244,000 a year   \n",
       "1  $112,000 - $154,000 a year   \n",
       "2              $70.67 an hour   \n",
       "3  $203,350 - $240,240 a year   \n",
       "4                         NaN   \n",
       "\n",
       "                                                 url  jobType/0 jobType/1  \\\n",
       "0  https://www.indeed.com/viewjob?jk=3129ec5dde24...  Full-time       NaN   \n",
       "1  https://www.indeed.com/viewjob?jk=19da1b85455c...  Full-time       NaN   \n",
       "2  https://www.indeed.com/viewjob?jk=0b0b432e2a51...  Full-time       NaN   \n",
       "3  https://www.indeed.com/viewjob?jk=08d2ef77c976...  Full-time       NaN   \n",
       "4  https://www.indeed.com/viewjob?jk=e9aad7dcc34e...  Full-time       NaN   \n",
       "\n",
       "  jobType/2 jobType/3 searchInput/country searchInput/position  \\\n",
       "0       NaN       NaN                  US       Data Scientist   \n",
       "1       NaN       NaN                  US       Data Scientist   \n",
       "2       NaN       NaN                  US       Data Scientist   \n",
       "3       NaN       NaN                  US       Data Scientist   \n",
       "4       NaN       NaN                  US       Data Scientist   \n",
       "\n",
       "                                   externalApplyLink  \n",
       "0  https://www.google.com/about/careers/applicati...  \n",
       "1  https://jobs.baxter.com/en/job/-/-/152/8298788...  \n",
       "2  https://www.metacareers.com/jobs/3101204833367...  \n",
       "3  https://www.metacareers.com/jobs/1096352489054...  \n",
       "4  https://click.appcast.io/t/V35efAz0-l7FWwo6IKe...  "
      ]
     },
     "execution_count": 54,
     "metadata": {},
     "output_type": "execute_result"
    }
   ],
   "source": [
    "df=pd.read_csv(\"C:/Anaconda/New folder/archive/jobs_dataset.csv\")\n",
    "df.head()"
   ]
  },
  {
   "cell_type": "code",
   "execution_count": null,
   "id": "ef5a3ee9-b121-4fe1-b894-7fc39b4e7683",
   "metadata": {},
   "outputs": [],
   "source": [
    "#To remove null from a coloumn\n",
    "df = df.dropna(subset=['jobType/1','jobType/2','jobType/3'])"
   ]
  },
  {
   "cell_type": "code",
   "execution_count": 53,
   "id": "b96e8964-49df-417f-9d3a-48e5b4b8826b",
   "metadata": {},
   "outputs": [
    {
     "data": {
      "text/html": [
       "<div>\n",
       "<style scoped>\n",
       "    .dataframe tbody tr th:only-of-type {\n",
       "        vertical-align: middle;\n",
       "    }\n",
       "\n",
       "    .dataframe tbody tr th {\n",
       "        vertical-align: top;\n",
       "    }\n",
       "\n",
       "    .dataframe thead th {\n",
       "        text-align: right;\n",
       "    }\n",
       "</style>\n",
       "<table border=\"1\" class=\"dataframe\">\n",
       "  <thead>\n",
       "    <tr style=\"text-align: right;\">\n",
       "      <th></th>\n",
       "      <th>company</th>\n",
       "      <th>rating</th>\n",
       "      <th>location</th>\n",
       "      <th>positionName</th>\n",
       "      <th>description</th>\n",
       "      <th>salary</th>\n",
       "      <th>url</th>\n",
       "      <th>jobType/0</th>\n",
       "      <th>jobType/1</th>\n",
       "      <th>jobType/2</th>\n",
       "      <th>jobType/3</th>\n",
       "      <th>searchInput/country</th>\n",
       "      <th>searchInput/position</th>\n",
       "      <th>externalApplyLink</th>\n",
       "    </tr>\n",
       "  </thead>\n",
       "  <tbody>\n",
       "    <tr>\n",
       "      <th>269</th>\n",
       "      <td>a.i. service agents &amp; automation</td>\n",
       "      <td>0.0</td>\n",
       "      <td>Phoenix, AZ 85051</td>\n",
       "      <td>AI chatbot developer</td>\n",
       "      <td>*Overview*\\nWe are seeking a skilled API Devel...</td>\n",
       "      <td>$95,321.52 - $314,795.80 a year</td>\n",
       "      <td>https://www.indeed.com/viewjob?jk=079aaf926466...</td>\n",
       "      <td>Temporary</td>\n",
       "      <td>part-time</td>\n",
       "      <td>Full-time</td>\n",
       "      <td>Contract</td>\n",
       "      <td>US</td>\n",
       "      <td>Data Scientist</td>\n",
       "      <td>NaN</td>\n",
       "    </tr>\n",
       "  </tbody>\n",
       "</table>\n",
       "</div>"
      ],
      "text/plain": [
       "                              company  rating           location  \\\n",
       "269  a.i. service agents & automation     0.0  Phoenix, AZ 85051   \n",
       "\n",
       "             positionName                                        description  \\\n",
       "269  AI chatbot developer  *Overview*\\nWe are seeking a skilled API Devel...   \n",
       "\n",
       "                              salary  \\\n",
       "269  $95,321.52 - $314,795.80 a year   \n",
       "\n",
       "                                                   url  jobType/0  jobType/1  \\\n",
       "269  https://www.indeed.com/viewjob?jk=079aaf926466...  Temporary  part-time   \n",
       "\n",
       "     jobType/2 jobType/3 searchInput/country searchInput/position  \\\n",
       "269  Full-time  Contract                  US       Data Scientist   \n",
       "\n",
       "    externalApplyLink  \n",
       "269               NaN  "
      ]
     },
     "execution_count": 53,
     "metadata": {},
     "output_type": "execute_result"
    }
   ],
   "source": [
    "df.head()"
   ]
  },
  {
   "cell_type": "code",
   "execution_count": null,
   "id": "0b147119-3f28-4528-b39b-544da4fd11dc",
   "metadata": {},
   "outputs": [],
   "source": [
    "#Convert all data into lower case\n",
    "df['jobType/1'] = df['jobType/1'].str.lower()\n",
    "df = df.dropna(subset=['company', 'jobType/1'])"
   ]
  },
  {
   "cell_type": "code",
   "execution_count": null,
   "id": "45c99a24-b278-44d9-bc5c-f8415930e154",
   "metadata": {},
   "outputs": [],
   "source": [
    "df['jobType/2'] = df['jobType/2'].str.lower()\n",
    "df = df.dropna(subset=['company', 'jobType/2'])"
   ]
  },
  {
   "cell_type": "code",
   "execution_count": null,
   "id": "0240de16-5110-4330-8686-8253adb00e2d",
   "metadata": {},
   "outputs": [],
   "source": [
    "df['jobType/3'] = df['jobType/3'].str.lower()\n",
    "#Removes columns have missing (null/NaN) values\n",
    "df = df.dropna(subset=['company', 'jobType/3'])"
   ]
  },
  {
   "cell_type": "code",
   "execution_count": 37,
   "id": "8bffd2ce-4195-4465-861e-940d48e3c780",
   "metadata": {},
   "outputs": [],
   "source": [
    "#To remove null from a coloumn\n",
    "df['company'] = df['company'].str.lower().str.strip()"
   ]
  },
  {
   "cell_type": "code",
   "execution_count": 38,
   "id": "cdf98ff6-1806-4a3a-b8d4-beb46c0ba4be",
   "metadata": {},
   "outputs": [
    {
     "data": {
      "text/html": [
       "<div>\n",
       "<style scoped>\n",
       "    .dataframe tbody tr th:only-of-type {\n",
       "        vertical-align: middle;\n",
       "    }\n",
       "\n",
       "    .dataframe tbody tr th {\n",
       "        vertical-align: top;\n",
       "    }\n",
       "\n",
       "    .dataframe thead th {\n",
       "        text-align: right;\n",
       "    }\n",
       "</style>\n",
       "<table border=\"1\" class=\"dataframe\">\n",
       "  <thead>\n",
       "    <tr style=\"text-align: right;\">\n",
       "      <th></th>\n",
       "      <th>company</th>\n",
       "      <th>rating</th>\n",
       "      <th>location</th>\n",
       "      <th>positionName</th>\n",
       "      <th>description</th>\n",
       "      <th>salary</th>\n",
       "      <th>url</th>\n",
       "      <th>jobType/0</th>\n",
       "      <th>jobType/1</th>\n",
       "      <th>jobType/2</th>\n",
       "      <th>jobType/3</th>\n",
       "      <th>searchInput/country</th>\n",
       "      <th>searchInput/position</th>\n",
       "      <th>externalApplyLink</th>\n",
       "    </tr>\n",
       "  </thead>\n",
       "  <tbody>\n",
       "    <tr>\n",
       "      <th>269</th>\n",
       "      <td>a.i. service agents &amp; automation</td>\n",
       "      <td>0.0</td>\n",
       "      <td>Phoenix, AZ 85051</td>\n",
       "      <td>AI chatbot developer</td>\n",
       "      <td>*Overview*\\nWe are seeking a skilled API Devel...</td>\n",
       "      <td>$95,321.52 - $314,795.80 a year</td>\n",
       "      <td>https://www.indeed.com/viewjob?jk=079aaf926466...</td>\n",
       "      <td>Temporary</td>\n",
       "      <td>part-time</td>\n",
       "      <td>full-time</td>\n",
       "      <td>contract</td>\n",
       "      <td>US</td>\n",
       "      <td>Data Scientist</td>\n",
       "      <td>NaN</td>\n",
       "    </tr>\n",
       "  </tbody>\n",
       "</table>\n",
       "</div>"
      ],
      "text/plain": [
       "                              company  rating           location  \\\n",
       "269  a.i. service agents & automation     0.0  Phoenix, AZ 85051   \n",
       "\n",
       "             positionName                                        description  \\\n",
       "269  AI chatbot developer  *Overview*\\nWe are seeking a skilled API Devel...   \n",
       "\n",
       "                              salary  \\\n",
       "269  $95,321.52 - $314,795.80 a year   \n",
       "\n",
       "                                                   url  jobType/0  jobType/1  \\\n",
       "269  https://www.indeed.com/viewjob?jk=079aaf926466...  Temporary  part-time   \n",
       "\n",
       "     jobType/2 jobType/3 searchInput/country searchInput/position  \\\n",
       "269  full-time  contract                  US       Data Scientist   \n",
       "\n",
       "    externalApplyLink  \n",
       "269               NaN  "
      ]
     },
     "execution_count": 38,
     "metadata": {},
     "output_type": "execute_result"
    }
   ],
   "source": [
    "#data Analysis\n",
    "#Count jobs per city\n",
    "count_city = df[]"
   ]
  },
  {
   "cell_type": "code",
   "execution_count": 56,
   "id": "b82e5fd7-dd8e-42d9-9d0a-c128673ee6dc",
   "metadata": {},
   "outputs": [
    {
     "data": {
      "text/plain": [
       "company\n",
       "Amazon                                            24\n",
       "Apple                                             20\n",
       "Meta                                              20\n",
       "Amazon.com Services LLC                           15\n",
       "Google                                            14\n",
       "Handshake                                         12\n",
       "Wells Fargo                                       10\n",
       "JPMorganChase                                     10\n",
       "Amazon Web Services, Inc.                          9\n",
       "Information Technology Senior Management Forum     8\n",
       "Name: count, dtype: int64"
      ]
     },
     "execution_count": 56,
     "metadata": {},
     "output_type": "execute_result"
    }
   ],
   "source": [
    "#Count jobs per city\n",
    "count_city = df['company'].value_counts()\n",
    "count_city.head(10)"
   ]
  },
  {
   "cell_type": "code",
   "execution_count": 57,
   "id": "c623abfc-f0ba-4ebe-aeeb-1e2f2409daea",
   "metadata": {},
   "outputs": [],
   "source": [
    "ai_jobs = df[df['company'].str.contains('AI|Machine Learning', case=False)]"
   ]
  },
  {
   "cell_type": "code",
   "execution_count": 58,
   "id": "f82b3df1-500a-4f9f-91a1-cbde89f658ec",
   "metadata": {},
   "outputs": [
    {
     "data": {
      "text/plain": [
       "'AI Jobs: 24'"
      ]
     },
     "execution_count": 58,
     "metadata": {},
     "output_type": "execute_result"
    }
   ],
   "source": [
    "f\"AI Jobs: {len(ai_jobs)}\""
   ]
  },
  {
   "cell_type": "code",
   "execution_count": null,
   "id": "f3f027a6-cdc0-4804-9483-29cc00e87230",
   "metadata": {},
   "outputs": [],
   "source": []
  }
 ],
 "metadata": {
  "kernelspec": {
   "display_name": "Python [conda env:base] *",
   "language": "python",
   "name": "conda-base-py"
  },
  "language_info": {
   "codemirror_mode": {
    "name": "ipython",
    "version": 3
   },
   "file_extension": ".py",
   "mimetype": "text/x-python",
   "name": "python",
   "nbconvert_exporter": "python",
   "pygments_lexer": "ipython3",
   "version": "3.13.5"
  }
 },
 "nbformat": 4,
 "nbformat_minor": 5
}
